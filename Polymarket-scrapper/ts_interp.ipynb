{
 "cells": [
  {
   "cell_type": "code",
   "execution_count": 37,
   "metadata": {},
   "outputs": [],
   "source": [
    "import pandas as pd\n",
    "import json\n",
    "\n",
    "csv_path = \"C:/Users/robin/OneDrive/Taff/ESILV/S8/AGP - Advanced Git and Python/repo/Project/db/market_516710_history.csv\""
   ]
  },
  {
   "cell_type": "code",
   "execution_count": 38,
   "metadata": {},
   "outputs": [],
   "source": [
    "df = pd.read_csv(csv_path, header=None, names=[\"timestamp\", \"raw_json\"], sep = \";\")\n"
   ]
  },
  {
   "cell_type": "code",
   "execution_count": 39,
   "metadata": {},
   "outputs": [
    {
     "data": {
      "application/vnd.microsoft.datawrangler.viewer.v0+json": {
       "columns": [
        {
         "name": "index",
         "rawType": "int64",
         "type": "integer"
        },
        {
         "name": "timestamp",
         "rawType": "object",
         "type": "string"
        },
        {
         "name": "raw_json",
         "rawType": "object",
         "type": "string"
        }
       ],
       "conversionMethod": "pd.DataFrame",
       "ref": "902ae992-6835-441d-b558-85b5e2a7ac1a",
       "rows": [
        [
         "0",
         "2025-03-10T13:08:54Z",
         "{\"id\":\"516710\",\"question\":\"US recession in 2025?\",\"conditionId\":\"0xfa48a99317daef1654d5b03e30557c4222f276657275628d9475e141c64b545d\",\"slug\":\"us-recession-in-2025\",\"resolutionSource\":\"\",\"endDate\":\"2026-02-28T12:00:00Z\",\"liquidity\":\"22174.0789\",\"startDate\":\"2025-01-08T01:33:54.924756Z\",\"image\":\"https://polymarket-upload.s3.us-east-2.amazonaws.com/us-recession-in-2025-01ZjnLjvO4a3.jpg\",\"icon\":\"https://polymarket-upload.s3.us-east-2.amazonaws.com/us-recession-in-2025-01ZjnLjvO4a3.jpg\",\"description\":\"This market will resolve to “Yes”, if either of the following conditions are met:\\n\\n1.  The National Bureau of Economic Research (NBER) publicly announces that a recession has occurred in the United States, at any point in 2025, with the announcement made by December 31, 2025, 11:59 PM ET.\\n\\n2.  The seasonally adjusted annualized percent change in quarterly U.S. real GDP from the previous quarter is less than 0.0 for two consecutive quarters between Q4 2024 and Q4 2025 (inclusive), as reported by the Bureau of Economic Analysis (BEA). \\n\\nOtherwise, this market will resolve to \\\"No\\\". \\n\\nNote that advance estimates will be considered. For example, if upon release, the advance estimate for Q2 2025 was negative, and the Q1 2025's most recent, up-to-date estimate was also negative, this market would resolve to \\\"Yes\\\". If on December 31, 2025 the latest estimate for quarterly GDP in Q3 2025 was negative, this market will stay open until the Advance estimate of Q4 2025 is published, at which point it will resolve to \\\"Yes\\\" if Q4 2025 was negative or if the NBER declares a recession by then.\\n\\nThe resolution source will be the official announcements from the NBER and the BEA’s estimate of seasonally adjusted annualized percent change in quarterly US real GDP from previous quarters as released by the Bureau of Economic Analysis (BEA), https://www.bea.gov/data/gdp/gross-domestic-product\",\"outcomes\":\"[\\\"Yes\\\", \\\"No\\\"]\",\"outcomePrices\":\"[\\\"0.405\\\", \\\"0.595\\\"]\",\"volume\":\"298975.765963\",\"active\":true,\"closed\":false,\"marketMakerAddress\":\"\",\"createdAt\":\"2024-12-29T18:04:31.897422Z\",\"updatedAt\":\"2025-03-10T13:06:56.807008Z\",\"new\":false,\"featured\":false,\"submitted_by\":\"0x91430CaD2d3975766499717fA0D66A78D814E5c5\",\"archived\":false,\"resolvedBy\":\"0x6A9D222616C90FcA5754cd1333cFD9b7fb6a4F74\",\"restricted\":true,\"groupItemTitle\":\"\",\"groupItemThreshold\":\"0\",\"questionID\":\"0xd87778fac13b570524bc8e8056bc235b3d696ecfcbe39afd754daca0741c419b\",\"enableOrderBook\":true,\"orderPriceMinTickSize\":0.01,\"orderMinSize\":5,\"volumeNum\":298975.765963,\"liquidityNum\":22174.0789,\"endDateIso\":\"2026-02-28\",\"startDateIso\":\"2025-01-08\",\"hasReviewedDates\":true,\"volume24hr\":18959.736149,\"clobTokenIds\":\"[\\\"104173557214744537570424345347209544585775842950109756851652855913015295701992\\\", \\\"44528029102356085806317866371026691780796471200782980570839327755136990994869\\\"]\",\"umaBond\":\"500\",\"umaReward\":\"5\",\"volume24hrClob\":18959.736149,\"volumeClob\":298975.765963,\"liquidityClob\":22174.0789,\"acceptingOrders\":true,\"negRisk\":false,\"ready\":false,\"funded\":false,\"acceptingOrdersTimestamp\":\"2025-01-08T01:32:33Z\",\"cyom\":false,\"competitive\":0.9910557221079755,\"pagerDutyNotificationEnabled\":false,\"approved\":true,\"clobRewards\":[{\"id\":\"12951\",\"conditionId\":\"0xfa48a99317daef1654d5b03e30557c4222f276657275628d9475e141c64b545d\",\"assetAddress\":\"0x2791Bca1f2de4661ED88A30C99A7a9449Aa84174\",\"rewardsAmount\":0,\"rewardsDailyRate\":50,\"startDate\":\"2025-01-07\",\"endDate\":\"2500-12-31\"}],\"rewardsMinSize\":50,\"rewardsMaxSpread\":3.5,\"spread\":0.03,\"oneDayPriceChange\":0.085,\"lastTradePrice\":0.42,\"bestBid\":0.39,\"bestAsk\":0.42,\"automaticallyActive\":true,\"clearBookOnStart\":true,\"manualActivation\":false,\"negRiskOther\":false}"
        ]
       ],
       "shape": {
        "columns": 2,
        "rows": 1
       }
      },
      "text/html": [
       "<div>\n",
       "<style scoped>\n",
       "    .dataframe tbody tr th:only-of-type {\n",
       "        vertical-align: middle;\n",
       "    }\n",
       "\n",
       "    .dataframe tbody tr th {\n",
       "        vertical-align: top;\n",
       "    }\n",
       "\n",
       "    .dataframe thead th {\n",
       "        text-align: right;\n",
       "    }\n",
       "</style>\n",
       "<table border=\"1\" class=\"dataframe\">\n",
       "  <thead>\n",
       "    <tr style=\"text-align: right;\">\n",
       "      <th></th>\n",
       "      <th>timestamp</th>\n",
       "      <th>raw_json</th>\n",
       "    </tr>\n",
       "  </thead>\n",
       "  <tbody>\n",
       "    <tr>\n",
       "      <th>0</th>\n",
       "      <td>2025-03-10T13:08:54Z</td>\n",
       "      <td>{\"id\":\"516710\",\"question\":\"US recession in 202...</td>\n",
       "    </tr>\n",
       "  </tbody>\n",
       "</table>\n",
       "</div>"
      ],
      "text/plain": [
       "              timestamp                                           raw_json\n",
       "0  2025-03-10T13:08:54Z  {\"id\":\"516710\",\"question\":\"US recession in 202..."
      ]
     },
     "execution_count": 39,
     "metadata": {},
     "output_type": "execute_result"
    }
   ],
   "source": [
    "df.head()"
   ]
  },
  {
   "cell_type": "code",
   "execution_count": 40,
   "metadata": {},
   "outputs": [],
   "source": [
    "df[\"timestamp\"] = pd.to_datetime(df[\"timestamp\"])"
   ]
  },
  {
   "cell_type": "code",
   "execution_count": 41,
   "metadata": {},
   "outputs": [
    {
     "data": {
      "application/vnd.microsoft.datawrangler.viewer.v0+json": {
       "columns": [
        {
         "name": "index",
         "rawType": "int64",
         "type": "integer"
        },
        {
         "name": "timestamp",
         "rawType": "datetime64[ns, UTC]",
         "type": "unknown"
        },
        {
         "name": "raw_json",
         "rawType": "object",
         "type": "string"
        }
       ],
       "conversionMethod": "pd.DataFrame",
       "ref": "63ddc903-e532-489b-991f-34e52aaa9583",
       "rows": [
        [
         "0",
         "2025-03-10 13:08:54+00:00",
         "{\"id\":\"516710\",\"question\":\"US recession in 2025?\",\"conditionId\":\"0xfa48a99317daef1654d5b03e30557c4222f276657275628d9475e141c64b545d\",\"slug\":\"us-recession-in-2025\",\"resolutionSource\":\"\",\"endDate\":\"2026-02-28T12:00:00Z\",\"liquidity\":\"22174.0789\",\"startDate\":\"2025-01-08T01:33:54.924756Z\",\"image\":\"https://polymarket-upload.s3.us-east-2.amazonaws.com/us-recession-in-2025-01ZjnLjvO4a3.jpg\",\"icon\":\"https://polymarket-upload.s3.us-east-2.amazonaws.com/us-recession-in-2025-01ZjnLjvO4a3.jpg\",\"description\":\"This market will resolve to “Yes”, if either of the following conditions are met:\\n\\n1.  The National Bureau of Economic Research (NBER) publicly announces that a recession has occurred in the United States, at any point in 2025, with the announcement made by December 31, 2025, 11:59 PM ET.\\n\\n2.  The seasonally adjusted annualized percent change in quarterly U.S. real GDP from the previous quarter is less than 0.0 for two consecutive quarters between Q4 2024 and Q4 2025 (inclusive), as reported by the Bureau of Economic Analysis (BEA). \\n\\nOtherwise, this market will resolve to \\\"No\\\". \\n\\nNote that advance estimates will be considered. For example, if upon release, the advance estimate for Q2 2025 was negative, and the Q1 2025's most recent, up-to-date estimate was also negative, this market would resolve to \\\"Yes\\\". If on December 31, 2025 the latest estimate for quarterly GDP in Q3 2025 was negative, this market will stay open until the Advance estimate of Q4 2025 is published, at which point it will resolve to \\\"Yes\\\" if Q4 2025 was negative or if the NBER declares a recession by then.\\n\\nThe resolution source will be the official announcements from the NBER and the BEA’s estimate of seasonally adjusted annualized percent change in quarterly US real GDP from previous quarters as released by the Bureau of Economic Analysis (BEA), https://www.bea.gov/data/gdp/gross-domestic-product\",\"outcomes\":\"[\\\"Yes\\\", \\\"No\\\"]\",\"outcomePrices\":\"[\\\"0.405\\\", \\\"0.595\\\"]\",\"volume\":\"298975.765963\",\"active\":true,\"closed\":false,\"marketMakerAddress\":\"\",\"createdAt\":\"2024-12-29T18:04:31.897422Z\",\"updatedAt\":\"2025-03-10T13:06:56.807008Z\",\"new\":false,\"featured\":false,\"submitted_by\":\"0x91430CaD2d3975766499717fA0D66A78D814E5c5\",\"archived\":false,\"resolvedBy\":\"0x6A9D222616C90FcA5754cd1333cFD9b7fb6a4F74\",\"restricted\":true,\"groupItemTitle\":\"\",\"groupItemThreshold\":\"0\",\"questionID\":\"0xd87778fac13b570524bc8e8056bc235b3d696ecfcbe39afd754daca0741c419b\",\"enableOrderBook\":true,\"orderPriceMinTickSize\":0.01,\"orderMinSize\":5,\"volumeNum\":298975.765963,\"liquidityNum\":22174.0789,\"endDateIso\":\"2026-02-28\",\"startDateIso\":\"2025-01-08\",\"hasReviewedDates\":true,\"volume24hr\":18959.736149,\"clobTokenIds\":\"[\\\"104173557214744537570424345347209544585775842950109756851652855913015295701992\\\", \\\"44528029102356085806317866371026691780796471200782980570839327755136990994869\\\"]\",\"umaBond\":\"500\",\"umaReward\":\"5\",\"volume24hrClob\":18959.736149,\"volumeClob\":298975.765963,\"liquidityClob\":22174.0789,\"acceptingOrders\":true,\"negRisk\":false,\"ready\":false,\"funded\":false,\"acceptingOrdersTimestamp\":\"2025-01-08T01:32:33Z\",\"cyom\":false,\"competitive\":0.9910557221079755,\"pagerDutyNotificationEnabled\":false,\"approved\":true,\"clobRewards\":[{\"id\":\"12951\",\"conditionId\":\"0xfa48a99317daef1654d5b03e30557c4222f276657275628d9475e141c64b545d\",\"assetAddress\":\"0x2791Bca1f2de4661ED88A30C99A7a9449Aa84174\",\"rewardsAmount\":0,\"rewardsDailyRate\":50,\"startDate\":\"2025-01-07\",\"endDate\":\"2500-12-31\"}],\"rewardsMinSize\":50,\"rewardsMaxSpread\":3.5,\"spread\":0.03,\"oneDayPriceChange\":0.085,\"lastTradePrice\":0.42,\"bestBid\":0.39,\"bestAsk\":0.42,\"automaticallyActive\":true,\"clearBookOnStart\":true,\"manualActivation\":false,\"negRiskOther\":false}"
        ]
       ],
       "shape": {
        "columns": 2,
        "rows": 1
       }
      },
      "text/html": [
       "<div>\n",
       "<style scoped>\n",
       "    .dataframe tbody tr th:only-of-type {\n",
       "        vertical-align: middle;\n",
       "    }\n",
       "\n",
       "    .dataframe tbody tr th {\n",
       "        vertical-align: top;\n",
       "    }\n",
       "\n",
       "    .dataframe thead th {\n",
       "        text-align: right;\n",
       "    }\n",
       "</style>\n",
       "<table border=\"1\" class=\"dataframe\">\n",
       "  <thead>\n",
       "    <tr style=\"text-align: right;\">\n",
       "      <th></th>\n",
       "      <th>timestamp</th>\n",
       "      <th>raw_json</th>\n",
       "    </tr>\n",
       "  </thead>\n",
       "  <tbody>\n",
       "    <tr>\n",
       "      <th>0</th>\n",
       "      <td>2025-03-10 13:08:54+00:00</td>\n",
       "      <td>{\"id\":\"516710\",\"question\":\"US recession in 202...</td>\n",
       "    </tr>\n",
       "  </tbody>\n",
       "</table>\n",
       "</div>"
      ],
      "text/plain": [
       "                  timestamp                                           raw_json\n",
       "0 2025-03-10 13:08:54+00:00  {\"id\":\"516710\",\"question\":\"US recession in 202..."
      ]
     },
     "execution_count": 41,
     "metadata": {},
     "output_type": "execute_result"
    }
   ],
   "source": [
    "df.head()"
   ]
  },
  {
   "cell_type": "code",
   "execution_count": 42,
   "metadata": {},
   "outputs": [],
   "source": [
    "df[\"parsed\"] = df[\"raw_json\"].apply(json.loads)"
   ]
  },
  {
   "cell_type": "code",
   "execution_count": 43,
   "metadata": {},
   "outputs": [
    {
     "data": {
      "application/vnd.microsoft.datawrangler.viewer.v0+json": {
       "columns": [
        {
         "name": "index",
         "rawType": "int64",
         "type": "integer"
        },
        {
         "name": "timestamp",
         "rawType": "datetime64[ns, UTC]",
         "type": "unknown"
        },
        {
         "name": "raw_json",
         "rawType": "object",
         "type": "string"
        },
        {
         "name": "parsed",
         "rawType": "object",
         "type": "unknown"
        }
       ],
       "conversionMethod": "pd.DataFrame",
       "ref": "983941e1-c913-47a8-8bc5-db690bf2d145",
       "rows": [
        [
         "0",
         "2025-03-10 13:08:54+00:00",
         "{\"id\":\"516710\",\"question\":\"US recession in 2025?\",\"conditionId\":\"0xfa48a99317daef1654d5b03e30557c4222f276657275628d9475e141c64b545d\",\"slug\":\"us-recession-in-2025\",\"resolutionSource\":\"\",\"endDate\":\"2026-02-28T12:00:00Z\",\"liquidity\":\"22174.0789\",\"startDate\":\"2025-01-08T01:33:54.924756Z\",\"image\":\"https://polymarket-upload.s3.us-east-2.amazonaws.com/us-recession-in-2025-01ZjnLjvO4a3.jpg\",\"icon\":\"https://polymarket-upload.s3.us-east-2.amazonaws.com/us-recession-in-2025-01ZjnLjvO4a3.jpg\",\"description\":\"This market will resolve to “Yes”, if either of the following conditions are met:\\n\\n1.  The National Bureau of Economic Research (NBER) publicly announces that a recession has occurred in the United States, at any point in 2025, with the announcement made by December 31, 2025, 11:59 PM ET.\\n\\n2.  The seasonally adjusted annualized percent change in quarterly U.S. real GDP from the previous quarter is less than 0.0 for two consecutive quarters between Q4 2024 and Q4 2025 (inclusive), as reported by the Bureau of Economic Analysis (BEA). \\n\\nOtherwise, this market will resolve to \\\"No\\\". \\n\\nNote that advance estimates will be considered. For example, if upon release, the advance estimate for Q2 2025 was negative, and the Q1 2025's most recent, up-to-date estimate was also negative, this market would resolve to \\\"Yes\\\". If on December 31, 2025 the latest estimate for quarterly GDP in Q3 2025 was negative, this market will stay open until the Advance estimate of Q4 2025 is published, at which point it will resolve to \\\"Yes\\\" if Q4 2025 was negative or if the NBER declares a recession by then.\\n\\nThe resolution source will be the official announcements from the NBER and the BEA’s estimate of seasonally adjusted annualized percent change in quarterly US real GDP from previous quarters as released by the Bureau of Economic Analysis (BEA), https://www.bea.gov/data/gdp/gross-domestic-product\",\"outcomes\":\"[\\\"Yes\\\", \\\"No\\\"]\",\"outcomePrices\":\"[\\\"0.405\\\", \\\"0.595\\\"]\",\"volume\":\"298975.765963\",\"active\":true,\"closed\":false,\"marketMakerAddress\":\"\",\"createdAt\":\"2024-12-29T18:04:31.897422Z\",\"updatedAt\":\"2025-03-10T13:06:56.807008Z\",\"new\":false,\"featured\":false,\"submitted_by\":\"0x91430CaD2d3975766499717fA0D66A78D814E5c5\",\"archived\":false,\"resolvedBy\":\"0x6A9D222616C90FcA5754cd1333cFD9b7fb6a4F74\",\"restricted\":true,\"groupItemTitle\":\"\",\"groupItemThreshold\":\"0\",\"questionID\":\"0xd87778fac13b570524bc8e8056bc235b3d696ecfcbe39afd754daca0741c419b\",\"enableOrderBook\":true,\"orderPriceMinTickSize\":0.01,\"orderMinSize\":5,\"volumeNum\":298975.765963,\"liquidityNum\":22174.0789,\"endDateIso\":\"2026-02-28\",\"startDateIso\":\"2025-01-08\",\"hasReviewedDates\":true,\"volume24hr\":18959.736149,\"clobTokenIds\":\"[\\\"104173557214744537570424345347209544585775842950109756851652855913015295701992\\\", \\\"44528029102356085806317866371026691780796471200782980570839327755136990994869\\\"]\",\"umaBond\":\"500\",\"umaReward\":\"5\",\"volume24hrClob\":18959.736149,\"volumeClob\":298975.765963,\"liquidityClob\":22174.0789,\"acceptingOrders\":true,\"negRisk\":false,\"ready\":false,\"funded\":false,\"acceptingOrdersTimestamp\":\"2025-01-08T01:32:33Z\",\"cyom\":false,\"competitive\":0.9910557221079755,\"pagerDutyNotificationEnabled\":false,\"approved\":true,\"clobRewards\":[{\"id\":\"12951\",\"conditionId\":\"0xfa48a99317daef1654d5b03e30557c4222f276657275628d9475e141c64b545d\",\"assetAddress\":\"0x2791Bca1f2de4661ED88A30C99A7a9449Aa84174\",\"rewardsAmount\":0,\"rewardsDailyRate\":50,\"startDate\":\"2025-01-07\",\"endDate\":\"2500-12-31\"}],\"rewardsMinSize\":50,\"rewardsMaxSpread\":3.5,\"spread\":0.03,\"oneDayPriceChange\":0.085,\"lastTradePrice\":0.42,\"bestBid\":0.39,\"bestAsk\":0.42,\"automaticallyActive\":true,\"clearBookOnStart\":true,\"manualActivation\":false,\"negRiskOther\":false}",
         "{'id': '516710', 'question': 'US recession in 2025?', 'conditionId': '0xfa48a99317daef1654d5b03e30557c4222f276657275628d9475e141c64b545d', 'slug': 'us-recession-in-2025', 'resolutionSource': '', 'endDate': '2026-02-28T12:00:00Z', 'liquidity': '22174.0789', 'startDate': '2025-01-08T01:33:54.924756Z', 'image': 'https://polymarket-upload.s3.us-east-2.amazonaws.com/us-recession-in-2025-01ZjnLjvO4a3.jpg', 'icon': 'https://polymarket-upload.s3.us-east-2.amazonaws.com/us-recession-in-2025-01ZjnLjvO4a3.jpg', 'description': 'This market will resolve to “Yes”, if either of the following conditions are met:\\n\\n1.  The National Bureau of Economic Research (NBER) publicly announces that a recession has occurred in the United States, at any point in 2025, with the announcement made by December 31, 2025, 11:59 PM ET.\\n\\n2.  The seasonally adjusted annualized percent change in quarterly U.S. real GDP from the previous quarter is less than 0.0 for two consecutive quarters between Q4 2024 and Q4 2025 (inclusive), as reported by the Bureau of Economic Analysis (BEA). \\n\\nOtherwise, this market will resolve to \"No\". \\n\\nNote that advance estimates will be considered. For example, if upon release, the advance estimate for Q2 2025 was negative, and the Q1 2025\\'s most recent, up-to-date estimate was also negative, this market would resolve to \"Yes\". If on December 31, 2025 the latest estimate for quarterly GDP in Q3 2025 was negative, this market will stay open until the Advance estimate of Q4 2025 is published, at which point it will resolve to \"Yes\" if Q4 2025 was negative or if the NBER declares a recession by then.\\n\\nThe resolution source will be the official announcements from the NBER and the BEA’s estimate of seasonally adjusted annualized percent change in quarterly US real GDP from previous quarters as released by the Bureau of Economic Analysis (BEA), https://www.bea.gov/data/gdp/gross-domestic-product', 'outcomes': '[\"Yes\", \"No\"]', 'outcomePrices': '[\"0.405\", \"0.595\"]', 'volume': '298975.765963', 'active': True, 'closed': False, 'marketMakerAddress': '', 'createdAt': '2024-12-29T18:04:31.897422Z', 'updatedAt': '2025-03-10T13:06:56.807008Z', 'new': False, 'featured': False, 'submitted_by': '0x91430CaD2d3975766499717fA0D66A78D814E5c5', 'archived': False, 'resolvedBy': '0x6A9D222616C90FcA5754cd1333cFD9b7fb6a4F74', 'restricted': True, 'groupItemTitle': '', 'groupItemThreshold': '0', 'questionID': '0xd87778fac13b570524bc8e8056bc235b3d696ecfcbe39afd754daca0741c419b', 'enableOrderBook': True, 'orderPriceMinTickSize': 0.01, 'orderMinSize': 5, 'volumeNum': 298975.765963, 'liquidityNum': 22174.0789, 'endDateIso': '2026-02-28', 'startDateIso': '2025-01-08', 'hasReviewedDates': True, 'volume24hr': 18959.736149, 'clobTokenIds': '[\"104173557214744537570424345347209544585775842950109756851652855913015295701992\", \"44528029102356085806317866371026691780796471200782980570839327755136990994869\"]', 'umaBond': '500', 'umaReward': '5', 'volume24hrClob': 18959.736149, 'volumeClob': 298975.765963, 'liquidityClob': 22174.0789, 'acceptingOrders': True, 'negRisk': False, 'ready': False, 'funded': False, 'acceptingOrdersTimestamp': '2025-01-08T01:32:33Z', 'cyom': False, 'competitive': 0.9910557221079755, 'pagerDutyNotificationEnabled': False, 'approved': True, 'clobRewards': [{'id': '12951', 'conditionId': '0xfa48a99317daef1654d5b03e30557c4222f276657275628d9475e141c64b545d', 'assetAddress': '0x2791Bca1f2de4661ED88A30C99A7a9449Aa84174', 'rewardsAmount': 0, 'rewardsDailyRate': 50, 'startDate': '2025-01-07', 'endDate': '2500-12-31'}], 'rewardsMinSize': 50, 'rewardsMaxSpread': 3.5, 'spread': 0.03, 'oneDayPriceChange': 0.085, 'lastTradePrice': 0.42, 'bestBid': 0.39, 'bestAsk': 0.42, 'automaticallyActive': True, 'clearBookOnStart': True, 'manualActivation': False, 'negRiskOther': False}"
        ]
       ],
       "shape": {
        "columns": 3,
        "rows": 1
       }
      },
      "text/html": [
       "<div>\n",
       "<style scoped>\n",
       "    .dataframe tbody tr th:only-of-type {\n",
       "        vertical-align: middle;\n",
       "    }\n",
       "\n",
       "    .dataframe tbody tr th {\n",
       "        vertical-align: top;\n",
       "    }\n",
       "\n",
       "    .dataframe thead th {\n",
       "        text-align: right;\n",
       "    }\n",
       "</style>\n",
       "<table border=\"1\" class=\"dataframe\">\n",
       "  <thead>\n",
       "    <tr style=\"text-align: right;\">\n",
       "      <th></th>\n",
       "      <th>timestamp</th>\n",
       "      <th>raw_json</th>\n",
       "      <th>parsed</th>\n",
       "    </tr>\n",
       "  </thead>\n",
       "  <tbody>\n",
       "    <tr>\n",
       "      <th>0</th>\n",
       "      <td>2025-03-10 13:08:54+00:00</td>\n",
       "      <td>{\"id\":\"516710\",\"question\":\"US recession in 202...</td>\n",
       "      <td>{'id': '516710', 'question': 'US recession in ...</td>\n",
       "    </tr>\n",
       "  </tbody>\n",
       "</table>\n",
       "</div>"
      ],
      "text/plain": [
       "                  timestamp  \\\n",
       "0 2025-03-10 13:08:54+00:00   \n",
       "\n",
       "                                            raw_json  \\\n",
       "0  {\"id\":\"516710\",\"question\":\"US recession in 202...   \n",
       "\n",
       "                                              parsed  \n",
       "0  {'id': '516710', 'question': 'US recession in ...  "
      ]
     },
     "execution_count": 43,
     "metadata": {},
     "output_type": "execute_result"
    }
   ],
   "source": [
    "df.head()"
   ]
  },
  {
   "cell_type": "code",
   "execution_count": 44,
   "metadata": {},
   "outputs": [],
   "source": [
    "df_extracted = pd.json_normalize(df[\"parsed\"])\n",
    "df_extracted[\"timestamp\"] = df[\"timestamp\"]"
   ]
  },
  {
   "cell_type": "code",
   "execution_count": 45,
   "metadata": {},
   "outputs": [
    {
     "data": {
      "application/vnd.microsoft.datawrangler.viewer.v0+json": {
       "columns": [
        {
         "name": "index",
         "rawType": "int64",
         "type": "integer"
        },
        {
         "name": "id",
         "rawType": "object",
         "type": "string"
        },
        {
         "name": "question",
         "rawType": "object",
         "type": "string"
        },
        {
         "name": "conditionId",
         "rawType": "object",
         "type": "string"
        },
        {
         "name": "slug",
         "rawType": "object",
         "type": "string"
        },
        {
         "name": "resolutionSource",
         "rawType": "object",
         "type": "string"
        },
        {
         "name": "endDate",
         "rawType": "object",
         "type": "string"
        },
        {
         "name": "liquidity",
         "rawType": "object",
         "type": "string"
        },
        {
         "name": "startDate",
         "rawType": "object",
         "type": "string"
        },
        {
         "name": "image",
         "rawType": "object",
         "type": "string"
        },
        {
         "name": "icon",
         "rawType": "object",
         "type": "string"
        },
        {
         "name": "description",
         "rawType": "object",
         "type": "string"
        },
        {
         "name": "outcomes",
         "rawType": "object",
         "type": "string"
        },
        {
         "name": "outcomePrices",
         "rawType": "object",
         "type": "string"
        },
        {
         "name": "volume",
         "rawType": "object",
         "type": "string"
        },
        {
         "name": "active",
         "rawType": "bool",
         "type": "boolean"
        },
        {
         "name": "closed",
         "rawType": "bool",
         "type": "boolean"
        },
        {
         "name": "marketMakerAddress",
         "rawType": "object",
         "type": "string"
        },
        {
         "name": "createdAt",
         "rawType": "object",
         "type": "string"
        },
        {
         "name": "updatedAt",
         "rawType": "object",
         "type": "string"
        },
        {
         "name": "new",
         "rawType": "bool",
         "type": "boolean"
        },
        {
         "name": "featured",
         "rawType": "bool",
         "type": "boolean"
        },
        {
         "name": "submitted_by",
         "rawType": "object",
         "type": "string"
        },
        {
         "name": "archived",
         "rawType": "bool",
         "type": "boolean"
        },
        {
         "name": "resolvedBy",
         "rawType": "object",
         "type": "string"
        },
        {
         "name": "restricted",
         "rawType": "bool",
         "type": "boolean"
        },
        {
         "name": "groupItemTitle",
         "rawType": "object",
         "type": "string"
        },
        {
         "name": "groupItemThreshold",
         "rawType": "object",
         "type": "string"
        },
        {
         "name": "questionID",
         "rawType": "object",
         "type": "string"
        },
        {
         "name": "enableOrderBook",
         "rawType": "bool",
         "type": "boolean"
        },
        {
         "name": "orderPriceMinTickSize",
         "rawType": "float64",
         "type": "float"
        },
        {
         "name": "orderMinSize",
         "rawType": "int64",
         "type": "integer"
        },
        {
         "name": "volumeNum",
         "rawType": "float64",
         "type": "float"
        },
        {
         "name": "liquidityNum",
         "rawType": "float64",
         "type": "float"
        },
        {
         "name": "endDateIso",
         "rawType": "object",
         "type": "string"
        },
        {
         "name": "startDateIso",
         "rawType": "object",
         "type": "string"
        },
        {
         "name": "hasReviewedDates",
         "rawType": "bool",
         "type": "boolean"
        },
        {
         "name": "volume24hr",
         "rawType": "float64",
         "type": "float"
        },
        {
         "name": "clobTokenIds",
         "rawType": "object",
         "type": "string"
        },
        {
         "name": "umaBond",
         "rawType": "object",
         "type": "string"
        },
        {
         "name": "umaReward",
         "rawType": "object",
         "type": "string"
        },
        {
         "name": "volume24hrClob",
         "rawType": "float64",
         "type": "float"
        },
        {
         "name": "volumeClob",
         "rawType": "float64",
         "type": "float"
        },
        {
         "name": "liquidityClob",
         "rawType": "float64",
         "type": "float"
        },
        {
         "name": "acceptingOrders",
         "rawType": "bool",
         "type": "boolean"
        },
        {
         "name": "negRisk",
         "rawType": "bool",
         "type": "boolean"
        },
        {
         "name": "ready",
         "rawType": "bool",
         "type": "boolean"
        },
        {
         "name": "funded",
         "rawType": "bool",
         "type": "boolean"
        },
        {
         "name": "acceptingOrdersTimestamp",
         "rawType": "object",
         "type": "string"
        },
        {
         "name": "cyom",
         "rawType": "bool",
         "type": "boolean"
        },
        {
         "name": "competitive",
         "rawType": "float64",
         "type": "float"
        },
        {
         "name": "pagerDutyNotificationEnabled",
         "rawType": "bool",
         "type": "boolean"
        },
        {
         "name": "approved",
         "rawType": "bool",
         "type": "boolean"
        },
        {
         "name": "clobRewards",
         "rawType": "object",
         "type": "unknown"
        },
        {
         "name": "rewardsMinSize",
         "rawType": "int64",
         "type": "integer"
        },
        {
         "name": "rewardsMaxSpread",
         "rawType": "float64",
         "type": "float"
        },
        {
         "name": "spread",
         "rawType": "float64",
         "type": "float"
        },
        {
         "name": "oneDayPriceChange",
         "rawType": "float64",
         "type": "float"
        },
        {
         "name": "lastTradePrice",
         "rawType": "float64",
         "type": "float"
        },
        {
         "name": "bestBid",
         "rawType": "float64",
         "type": "float"
        },
        {
         "name": "bestAsk",
         "rawType": "float64",
         "type": "float"
        },
        {
         "name": "automaticallyActive",
         "rawType": "bool",
         "type": "boolean"
        },
        {
         "name": "clearBookOnStart",
         "rawType": "bool",
         "type": "boolean"
        },
        {
         "name": "manualActivation",
         "rawType": "bool",
         "type": "boolean"
        },
        {
         "name": "negRiskOther",
         "rawType": "bool",
         "type": "boolean"
        },
        {
         "name": "timestamp",
         "rawType": "datetime64[ns, UTC]",
         "type": "unknown"
        }
       ],
       "conversionMethod": "pd.DataFrame",
       "ref": "fd3fe50c-442a-4c31-ae36-6fbf11bd80d8",
       "rows": [
        [
         "0",
         "516710",
         "US recession in 2025?",
         "0xfa48a99317daef1654d5b03e30557c4222f276657275628d9475e141c64b545d",
         "us-recession-in-2025",
         "",
         "2026-02-28T12:00:00Z",
         "22174.0789",
         "2025-01-08T01:33:54.924756Z",
         "https://polymarket-upload.s3.us-east-2.amazonaws.com/us-recession-in-2025-01ZjnLjvO4a3.jpg",
         "https://polymarket-upload.s3.us-east-2.amazonaws.com/us-recession-in-2025-01ZjnLjvO4a3.jpg",
         "This market will resolve to “Yes”, if either of the following conditions are met:\n\n1.  The National Bureau of Economic Research (NBER) publicly announces that a recession has occurred in the United States, at any point in 2025, with the announcement made by December 31, 2025, 11:59 PM ET.\n\n2.  The seasonally adjusted annualized percent change in quarterly U.S. real GDP from the previous quarter is less than 0.0 for two consecutive quarters between Q4 2024 and Q4 2025 (inclusive), as reported by the Bureau of Economic Analysis (BEA). \n\nOtherwise, this market will resolve to \"No\". \n\nNote that advance estimates will be considered. For example, if upon release, the advance estimate for Q2 2025 was negative, and the Q1 2025's most recent, up-to-date estimate was also negative, this market would resolve to \"Yes\". If on December 31, 2025 the latest estimate for quarterly GDP in Q3 2025 was negative, this market will stay open until the Advance estimate of Q4 2025 is published, at which point it will resolve to \"Yes\" if Q4 2025 was negative or if the NBER declares a recession by then.\n\nThe resolution source will be the official announcements from the NBER and the BEA’s estimate of seasonally adjusted annualized percent change in quarterly US real GDP from previous quarters as released by the Bureau of Economic Analysis (BEA), https://www.bea.gov/data/gdp/gross-domestic-product",
         "[\"Yes\", \"No\"]",
         "[\"0.405\", \"0.595\"]",
         "298975.765963",
         "True",
         "False",
         "",
         "2024-12-29T18:04:31.897422Z",
         "2025-03-10T13:06:56.807008Z",
         "False",
         "False",
         "0x91430CaD2d3975766499717fA0D66A78D814E5c5",
         "False",
         "0x6A9D222616C90FcA5754cd1333cFD9b7fb6a4F74",
         "True",
         "",
         "0",
         "0xd87778fac13b570524bc8e8056bc235b3d696ecfcbe39afd754daca0741c419b",
         "True",
         "0.01",
         "5",
         "298975.765963",
         "22174.0789",
         "2026-02-28",
         "2025-01-08",
         "True",
         "18959.736149",
         "[\"104173557214744537570424345347209544585775842950109756851652855913015295701992\", \"44528029102356085806317866371026691780796471200782980570839327755136990994869\"]",
         "500",
         "5",
         "18959.736149",
         "298975.765963",
         "22174.0789",
         "True",
         "False",
         "False",
         "False",
         "2025-01-08T01:32:33Z",
         "False",
         "0.9910557221079755",
         "False",
         "True",
         "[{'id': '12951', 'conditionId': '0xfa48a99317daef1654d5b03e30557c4222f276657275628d9475e141c64b545d', 'assetAddress': '0x2791Bca1f2de4661ED88A30C99A7a9449Aa84174', 'rewardsAmount': 0, 'rewardsDailyRate': 50, 'startDate': '2025-01-07', 'endDate': '2500-12-31'}]",
         "50",
         "3.5",
         "0.03",
         "0.085",
         "0.42",
         "0.39",
         "0.42",
         "True",
         "True",
         "False",
         "False",
         "2025-03-10 13:08:54+00:00"
        ]
       ],
       "shape": {
        "columns": 65,
        "rows": 1
       }
      },
      "text/html": [
       "<div>\n",
       "<style scoped>\n",
       "    .dataframe tbody tr th:only-of-type {\n",
       "        vertical-align: middle;\n",
       "    }\n",
       "\n",
       "    .dataframe tbody tr th {\n",
       "        vertical-align: top;\n",
       "    }\n",
       "\n",
       "    .dataframe thead th {\n",
       "        text-align: right;\n",
       "    }\n",
       "</style>\n",
       "<table border=\"1\" class=\"dataframe\">\n",
       "  <thead>\n",
       "    <tr style=\"text-align: right;\">\n",
       "      <th></th>\n",
       "      <th>id</th>\n",
       "      <th>question</th>\n",
       "      <th>conditionId</th>\n",
       "      <th>slug</th>\n",
       "      <th>resolutionSource</th>\n",
       "      <th>endDate</th>\n",
       "      <th>liquidity</th>\n",
       "      <th>startDate</th>\n",
       "      <th>image</th>\n",
       "      <th>icon</th>\n",
       "      <th>...</th>\n",
       "      <th>spread</th>\n",
       "      <th>oneDayPriceChange</th>\n",
       "      <th>lastTradePrice</th>\n",
       "      <th>bestBid</th>\n",
       "      <th>bestAsk</th>\n",
       "      <th>automaticallyActive</th>\n",
       "      <th>clearBookOnStart</th>\n",
       "      <th>manualActivation</th>\n",
       "      <th>negRiskOther</th>\n",
       "      <th>timestamp</th>\n",
       "    </tr>\n",
       "  </thead>\n",
       "  <tbody>\n",
       "    <tr>\n",
       "      <th>0</th>\n",
       "      <td>516710</td>\n",
       "      <td>US recession in 2025?</td>\n",
       "      <td>0xfa48a99317daef1654d5b03e30557c4222f276657275...</td>\n",
       "      <td>us-recession-in-2025</td>\n",
       "      <td></td>\n",
       "      <td>2026-02-28T12:00:00Z</td>\n",
       "      <td>22174.0789</td>\n",
       "      <td>2025-01-08T01:33:54.924756Z</td>\n",
       "      <td>https://polymarket-upload.s3.us-east-2.amazona...</td>\n",
       "      <td>https://polymarket-upload.s3.us-east-2.amazona...</td>\n",
       "      <td>...</td>\n",
       "      <td>0.03</td>\n",
       "      <td>0.085</td>\n",
       "      <td>0.42</td>\n",
       "      <td>0.39</td>\n",
       "      <td>0.42</td>\n",
       "      <td>True</td>\n",
       "      <td>True</td>\n",
       "      <td>False</td>\n",
       "      <td>False</td>\n",
       "      <td>2025-03-10 13:08:54+00:00</td>\n",
       "    </tr>\n",
       "  </tbody>\n",
       "</table>\n",
       "<p>1 rows × 65 columns</p>\n",
       "</div>"
      ],
      "text/plain": [
       "       id               question  \\\n",
       "0  516710  US recession in 2025?   \n",
       "\n",
       "                                         conditionId                  slug  \\\n",
       "0  0xfa48a99317daef1654d5b03e30557c4222f276657275...  us-recession-in-2025   \n",
       "\n",
       "  resolutionSource               endDate   liquidity  \\\n",
       "0                   2026-02-28T12:00:00Z  22174.0789   \n",
       "\n",
       "                     startDate  \\\n",
       "0  2025-01-08T01:33:54.924756Z   \n",
       "\n",
       "                                               image  \\\n",
       "0  https://polymarket-upload.s3.us-east-2.amazona...   \n",
       "\n",
       "                                                icon  ... spread  \\\n",
       "0  https://polymarket-upload.s3.us-east-2.amazona...  ...   0.03   \n",
       "\n",
       "  oneDayPriceChange lastTradePrice bestBid  bestAsk  automaticallyActive  \\\n",
       "0             0.085           0.42    0.39     0.42                 True   \n",
       "\n",
       "  clearBookOnStart manualActivation negRiskOther                 timestamp  \n",
       "0             True            False        False 2025-03-10 13:08:54+00:00  \n",
       "\n",
       "[1 rows x 65 columns]"
      ]
     },
     "execution_count": 45,
     "metadata": {},
     "output_type": "execute_result"
    }
   ],
   "source": [
    "df_extracted.head()"
   ]
  },
  {
   "cell_type": "code",
   "execution_count": null,
   "metadata": {},
   "outputs": [],
   "source": [
    "timeseries = df_extracted[[\"timestamp\", \"lastTradePrice\", \"bestBid\", \"bestAsk\", \"volume\", \"volume24hr\", \"liquidity\"]]\n",
    "\n",
    "timeseries = timeseries.sort_values(\"timestamp\")"
   ]
  },
  {
   "cell_type": "code",
   "execution_count": 47,
   "metadata": {},
   "outputs": [
    {
     "data": {
      "application/vnd.microsoft.datawrangler.viewer.v0+json": {
       "columns": [
        {
         "name": "index",
         "rawType": "int64",
         "type": "integer"
        },
        {
         "name": "timestamp",
         "rawType": "datetime64[ns, UTC]",
         "type": "unknown"
        },
        {
         "name": "lastTradePrice",
         "rawType": "float64",
         "type": "float"
        },
        {
         "name": "bestBid",
         "rawType": "float64",
         "type": "float"
        },
        {
         "name": "bestAsk",
         "rawType": "float64",
         "type": "float"
        },
        {
         "name": "volume",
         "rawType": "object",
         "type": "string"
        },
        {
         "name": "volume24hr",
         "rawType": "float64",
         "type": "float"
        },
        {
         "name": "liquidity",
         "rawType": "object",
         "type": "string"
        }
       ],
       "conversionMethod": "pd.DataFrame",
       "ref": "83660b42-e4d3-4048-a588-21187f29f49b",
       "rows": [
        [
         "0",
         "2025-03-10 13:08:54+00:00",
         "0.42",
         "0.39",
         "0.42",
         "298975.765963",
         "18959.736149",
         "22174.0789"
        ]
       ],
       "shape": {
        "columns": 7,
        "rows": 1
       }
      },
      "text/html": [
       "<div>\n",
       "<style scoped>\n",
       "    .dataframe tbody tr th:only-of-type {\n",
       "        vertical-align: middle;\n",
       "    }\n",
       "\n",
       "    .dataframe tbody tr th {\n",
       "        vertical-align: top;\n",
       "    }\n",
       "\n",
       "    .dataframe thead th {\n",
       "        text-align: right;\n",
       "    }\n",
       "</style>\n",
       "<table border=\"1\" class=\"dataframe\">\n",
       "  <thead>\n",
       "    <tr style=\"text-align: right;\">\n",
       "      <th></th>\n",
       "      <th>timestamp</th>\n",
       "      <th>lastTradePrice</th>\n",
       "      <th>bestBid</th>\n",
       "      <th>bestAsk</th>\n",
       "      <th>volume</th>\n",
       "      <th>volume24hr</th>\n",
       "      <th>liquidity</th>\n",
       "    </tr>\n",
       "  </thead>\n",
       "  <tbody>\n",
       "    <tr>\n",
       "      <th>0</th>\n",
       "      <td>2025-03-10 13:08:54+00:00</td>\n",
       "      <td>0.42</td>\n",
       "      <td>0.39</td>\n",
       "      <td>0.42</td>\n",
       "      <td>298975.765963</td>\n",
       "      <td>18959.736149</td>\n",
       "      <td>22174.0789</td>\n",
       "    </tr>\n",
       "  </tbody>\n",
       "</table>\n",
       "</div>"
      ],
      "text/plain": [
       "                  timestamp  lastTradePrice  bestBid  bestAsk         volume  \\\n",
       "0 2025-03-10 13:08:54+00:00            0.42     0.39     0.42  298975.765963   \n",
       "\n",
       "     volume24hr   liquidity  \n",
       "0  18959.736149  22174.0789  "
      ]
     },
     "execution_count": 47,
     "metadata": {},
     "output_type": "execute_result"
    }
   ],
   "source": [
    "timeseries.head()"
   ]
  }
 ],
 "metadata": {
  "kernelspec": {
   "display_name": "Python 3",
   "language": "python",
   "name": "python3"
  },
  "language_info": {
   "codemirror_mode": {
    "name": "ipython",
    "version": 3
   },
   "file_extension": ".py",
   "mimetype": "text/x-python",
   "name": "python",
   "nbconvert_exporter": "python",
   "pygments_lexer": "ipython3",
   "version": "3.12.9"
  }
 },
 "nbformat": 4,
 "nbformat_minor": 2
}
